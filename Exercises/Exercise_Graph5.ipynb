{
 "cells": [
  {
   "metadata": {},
   "cell_type": "markdown",
   "source": [
    "# Exercise 5\n",
    "\n",
    "**练习**：\n",
    "\n",
    "实现一个 **自动大小猜数字游戏（Higher or Lower Game）**。\n",
    "\n",
    "* 范围：1 \\~ 20\n",
    "* 最多 7 次猜测\n",
    "* 如果猜对则结束，否则继续循环，直到 7 次用完\n",
    "* 每次猜测后，提示节点输出“太大了/太小了”，并根据提示调整范围\n",
    "\n",
    "输入：\n",
    "\n",
    "```json\n",
    "{\"player_name\": \"Student\", \"guesses\": [], \"attempts\": 0, \"lower_bound\": 1, \"upper_bound\": 20}\n",
    "```\n",
    "\n",
    "提示：每次猜测后需要根据提示调整边界。\n",
    "\n",
    "![image.png](attachment:ab4e1564-e8e5-428f-9ad4-6bda4d19db97.png)"
   ],
   "id": "c9912d92a83b3426",
   "attachments": {
    "ab4e1564-e8e5-428f-9ad4-6bda4d19db97.png": {
     "image/png": "[encoded data removed]"
    }
   }
  },
  {
   "cell_type": "code",
   "id": "initial_id",
   "metadata": {
    "collapsed": true,
    "ExecuteTime": {
     "end_time": "2025-09-21T16:34:55.375177Z",
     "start_time": "2025-09-21T16:34:55.373306Z"
    }
   },
   "source": [
    "from typing import List,Dict,TypedDict\n",
    "from langgraph.graph import StateGraph,START,END\n",
    "import random"
   ],
   "outputs": [],
   "execution_count": 31
  },
  {
   "metadata": {
    "ExecuteTime": {
     "end_time": "2025-09-21T16:34:55.389171Z",
     "start_time": "2025-09-21T16:34:55.387214Z"
    }
   },
   "cell_type": "code",
   "source": [
    "class AgentState(TypedDict):\n",
    "    player_name:str\n",
    "    guesses:List[int]\n",
    "    attempts:int\n",
    "    lower_bound:int\n",
    "    upper_bound:int\n",
    "    hint:str\n",
    "    target_number:int"
   ],
   "id": "30227a6642d5c106",
   "outputs": [],
   "execution_count": 32
  },
  {
   "metadata": {
    "ExecuteTime": {
     "end_time": "2025-09-21T16:34:55.399536Z",
     "start_time": "2025-09-21T16:34:55.396886Z"
    }
   },
   "cell_type": "code",
   "source": "def setup_node(state:AgentState) -> AgentState:\n    \"\"\"使用随机目标数字初始化游戏\"\"\"\n    state[\"player_name\"] = f\"你好，{state['player_name']}！\"\n    state[\"guesses\"] = []\n    state[\"attempts\"]=0\n    state[\"lower_bound\"]=state[\"lower_bound\"]\n    state[\"upper_bound\"]=state[\"upper_bound\"]\n    state[\"hint\"] = \"游戏开始了！试着猜一下数字。\"\n    state[\"target_number\"] = random.randint(state[\"lower_bound\"], state[\"upper_bound\"])\n    return state\n\ndef guess_node(state:AgentState) -> AgentState:\n    \"\"\"根据之前的提示生成更明智的猜测\"\"\"\n    state[\"guesses\"].append(random.randint(state[\"lower_bound\"], state[\"upper_bound\"]))\n    state[\"attempts\"]+=1\n\n    return state\n\ndef should_continue(state:AgentState) -> str:\n    if state[\"attempts\"] < 7 and not state[\"hint\"].startswith(\"恭喜\"):\n        return \"loop\"\n    else:\n        return \"exit\"\n\ndef hint_node(state:AgentState) -> AgentState:\n    target = state[\"target_number\"]\n    latest_guess = state[\"guesses\"][-1]\n\n    if latest_guess > target:\n        state[\"hint\"] = \"太大了\"\n        state[\"upper_bound\"]=latest_guess-1\n    elif latest_guess < target:\n        state[\"hint\"] = \"太小了\"\n        state[\"lower_bound\"]=latest_guess+1\n    else:\n        state[\"hint\"] = f\"恭喜你猜对了！正确答案是{target}!你一共猜了{state['attempts']}次：{state['guesses']}\"\n\n    return state",
   "id": "17d466560536cdfc",
   "outputs": [],
   "execution_count": 33
  },
  {
   "metadata": {
    "ExecuteTime": {
     "end_time": "2025-09-21T16:34:55.415174Z",
     "start_time": "2025-09-21T16:34:55.411931Z"
    }
   },
   "cell_type": "code",
   "source": "graph = StateGraph(AgentState)\n\ngraph.add_node(\"setup_node\",setup_node)\ngraph.add_node(\"guess_node\",guess_node)\ngraph.add_node(\"hint_node\",hint_node)\n\ngraph.add_edge(START,\"setup_node\")\ngraph.add_edge(\"setup_node\",\"guess_node\")\ngraph.add_edge(\"guess_node\",\"hint_node\")\ngraph.add_conditional_edges(\n    \"hint_node\",\n    should_continue,\n    {\n        \"loop\":\"guess_node\",\n        \"exit\":END,\n    }\n)\n\napp = graph.compile()",
   "id": "3cd01fe23d6a2407",
   "outputs": [],
   "execution_count": 34
  },
  {
   "metadata": {
    "ExecuteTime": {
     "end_time": "2025-09-21T16:34:55.426583Z",
     "start_time": "2025-09-21T16:34:55.423821Z"
    }
   },
   "cell_type": "code",
   "source": "answer = app.invoke({\"player_name\": \"Student\", \"guesses\": [], \"attempts\": 0, \"lower_bound\": 1, \"upper_bound\": 20})",
   "id": "dcc8f5609cfe3d03",
   "outputs": [],
   "execution_count": 35
  },
  {
   "metadata": {
    "ExecuteTime": {
     "end_time": "2025-09-21T16:34:55.440377Z",
     "start_time": "2025-09-21T16:34:55.438052Z"
    }
   },
   "cell_type": "code",
   "source": "print(\"游戏结果:\")\nprint(f\"玩家: {answer['player_name']}\")\nprint(f\"目标数字: {answer['target_number']}\")\nprint(f\"尝试次数: {answer['attempts']}\")\nprint(f\"猜测历史: {answer['guesses']}\")\nprint(f\"最终提示: {answer['hint']}\")\nprint(f\"最终边界: [{answer['lower_bound']}, {answer['upper_bound']}]\")\n\n# 显示完整答案\nanswer",
   "id": "89c2a95676506785",
   "outputs": [
    {
     "name": "stdout",
     "output_type": "stream",
     "text": [
      "游戏结果:\n",
      "玩家: 你好，Student！\n",
      "目标数字: 2\n",
      "尝试次数: 4\n",
      "猜测历史: [12, 10, 1, 2]\n",
      "最终提示: 恭喜你猜对了！正确答案是2!你一共猜了4次：[12, 10, 1, 2]\n",
      "最终边界: [2, 9]\n"
     ]
    },
    {
     "data": {
      "text/plain": [
       "{'player_name': '你好，Student！',\n",
       " 'guesses': [12, 10, 1, 2],\n",
       " 'attempts': 4,\n",
       " 'lower_bound': 2,\n",
       " 'upper_bound': 9,\n",
       " 'hint': '恭喜你猜对了！正确答案是2!你一共猜了4次：[12, 10, 1, 2]',\n",
       " 'target_number': 2}"
      ]
     },
     "execution_count": 36,
     "metadata": {},
     "output_type": "execute_result"
    }
   ],
   "execution_count": 36
  },
  {
   "metadata": {
    "ExecuteTime": {
     "end_time": "2025-09-21T16:34:55.454161Z",
     "start_time": "2025-09-21T16:34:55.452869Z"
    }
   },
   "cell_type": "code",
   "source": "",
   "id": "bc5ccc88338e000b",
   "outputs": [],
   "execution_count": null
  }
 ],
 "metadata": {
  "kernelspec": {
   "display_name": "Python 3",
   "language": "python",
   "name": "python3"
  },
  "language_info": {
   "codemirror_mode": {
    "name": "ipython",
    "version": 2
   },
   "file_extension": ".py",
   "mimetype": "text/x-python",
   "name": "python",
   "nbconvert_exporter": "python",
   "pygments_lexer": "ipython2",
   "version": "2.7.6"
  }
 },
 "nbformat": 4,
 "nbformat_minor": 5
}

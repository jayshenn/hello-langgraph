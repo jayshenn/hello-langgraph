{
 "cells": [
  {
   "metadata": {},
   "cell_type": "markdown",
   "source": [
    "## Exercise 3\n",
    "\n",
    "**练习**：\n",
    "\n",
    "要求：\n",
    "\n",
    "1. 输入用户的姓名、年龄和技能列表。\n",
    "2. 状态依次通过三个节点：\n",
    "\n",
    "   * 节点 1：个性化欢迎信息\n",
    "   * 节点 2：描述用户年龄\n",
    "   * 节点 3：列出用户技能\n",
    "3. 最终结果字段应为组合消息，例如：\n",
    "\n",
    "输出：\n",
    "\n",
    "```\n",
    "“Linda, welcome to the system! You are 31 years old! You have skills in: Python, Machine Learning, and LangGraph”\n",
    "```\n",
    "\n",
    "提示：你需要调用 `add_edge` 两次。"
   ],
   "id": "9fb43d49b97b4a27"
  },
  {
   "cell_type": "code",
   "id": "initial_id",
   "metadata": {
    "collapsed": true,
    "ExecuteTime": {
     "end_time": "2025-09-21T11:27:25.468332Z",
     "start_time": "2025-09-21T11:27:25.466574Z"
    }
   },
   "source": [
    "from typing import TypedDict,List\n",
    "from langgraph.graph import StateGraph"
   ],
   "outputs": [],
   "execution_count": 3
  },
  {
   "metadata": {
    "ExecuteTime": {
     "end_time": "2025-09-21T11:27:26.333270Z",
     "start_time": "2025-09-21T11:27:26.331125Z"
    }
   },
   "cell_type": "code",
   "source": [
    "class AgentState(TypedDict):\n",
    "    name:str\n",
    "    age:str\n",
    "    skills:List[str]\n",
    "    final:str"
   ],
   "id": "3c015fce68818ede",
   "outputs": [],
   "execution_count": 4
  },
  {
   "metadata": {
    "ExecuteTime": {
     "end_time": "2025-09-21T11:36:58.048180Z",
     "start_time": "2025-09-21T11:36:58.045108Z"
    }
   },
   "cell_type": "code",
   "source": [
    "def first_node(state:AgentState) -> AgentState:\n",
    "    \"\"\"这是序列的第一个节点\"\"\"\n",
    "    state[\"final\"] = f\"{state[\"name\"]}, welcome to the system!\"\n",
    "    return state\n",
    "\n",
    "def second_node(state:AgentState) -> AgentState:\n",
    "    \"\"\"这是序列的第二个节点\"\"\"\n",
    "    state[\"final\"] = f\"{state[\"final\"]} You are {state[\"age\"]} years old!\"\n",
    "    return state\n",
    "\n",
    "def third_node(state:AgentState) -> AgentState:\n",
    "    \"\"\"这是序列的第三个节点\"\"\"\n",
    "    skills = state[\"skills\"]\n",
    "\n",
    "    # 如果列表只有一个元素就直接输出\n",
    "    if len(skills) == 1:\n",
    "        result = skills[0]\n",
    "    else:\n",
    "        result = \", \".join(skills[:-1]) + \", and \" + skills[-1]\n",
    "\n",
    "    state[\"final\"] = f\"{state[\"final\"]} You have skills in: {result}\"\n",
    "    return state"
   ],
   "id": "3215b4076303f6f8",
   "outputs": [],
   "execution_count": 8
  },
  {
   "metadata": {
    "ExecuteTime": {
     "end_time": "2025-09-21T11:36:59.910760Z",
     "start_time": "2025-09-21T11:36:59.907220Z"
    }
   },
   "cell_type": "code",
   "source": [
    "graph = StateGraph(AgentState)\n",
    "\n",
    "graph.add_node(\"first_node\",first_node)\n",
    "graph.add_node(\"second_node\",second_node)\n",
    "graph.add_node(\"third_node\",third_node)\n",
    "\n",
    "graph.set_entry_point(\"first_node\")\n",
    "graph.add_edge(\"first_node\", \"second_node\")\n",
    "graph.add_edge(\"second_node\", \"third_node\")\n",
    "graph.set_finish_point(\"third_node\")\n",
    "\n",
    "app = graph.compile()"
   ],
   "id": "7341ae90ad2e4d60",
   "outputs": [],
   "execution_count": 9
  },
  {
   "metadata": {
    "ExecuteTime": {
     "end_time": "2025-09-21T11:37:46.801990Z",
     "start_time": "2025-09-21T11:37:46.796215Z"
    }
   },
   "cell_type": "code",
   "source": "answer = app.invoke({\"name\": \"Linda\", \"age\": 31, \"skills\":[\"Python\", \"Machine Learning\", \"LangGraph\"]})",
   "id": "df48d9188a6aa6d2",
   "outputs": [],
   "execution_count": 10
  },
  {
   "metadata": {
    "ExecuteTime": {
     "end_time": "2025-09-21T11:38:01.891741Z",
     "start_time": "2025-09-21T11:38:01.887776Z"
    }
   },
   "cell_type": "code",
   "source": "answer",
   "id": "630b0c704f87cde2",
   "outputs": [
    {
     "data": {
      "text/plain": [
       "{'name': 'Linda',\n",
       " 'age': 31,\n",
       " 'skills': ['Python', 'Machine Learning', 'LangGraph'],\n",
       " 'final': 'Linda, welcome to the system! You are 31 years old! You have skills in: Python, Machine Learning, and LangGraph'}"
      ]
     },
     "execution_count": 11,
     "metadata": {},
     "output_type": "execute_result"
    }
   ],
   "execution_count": 11
  },
  {
   "metadata": {
    "ExecuteTime": {
     "end_time": "2025-09-21T11:38:03.178141Z",
     "start_time": "2025-09-21T11:38:03.175565Z"
    }
   },
   "cell_type": "code",
   "source": "answer[\"final\"]",
   "id": "f8eb0e52e9068628",
   "outputs": [
    {
     "data": {
      "text/plain": [
       "'Linda, welcome to the system! You are 31 years old! You have skills in: Python, Machine Learning, and LangGraph'"
      ]
     },
     "execution_count": 12,
     "metadata": {},
     "output_type": "execute_result"
    }
   ],
   "execution_count": 12
  }
 ],
 "metadata": {
  "kernelspec": {
   "display_name": "Python 3",
   "language": "python",
   "name": "python3"
  },
  "language_info": {
   "codemirror_mode": {
    "name": "ipython",
    "version": 2
   },
   "file_extension": ".py",
   "mimetype": "text/x-python",
   "name": "python",
   "nbconvert_exporter": "python",
   "pygments_lexer": "ipython2",
   "version": "2.7.6"
  }
 },
 "nbformat": 4,
 "nbformat_minor": 5
}

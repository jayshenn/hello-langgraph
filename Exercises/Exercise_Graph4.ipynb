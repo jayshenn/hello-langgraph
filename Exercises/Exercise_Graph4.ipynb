{
 "cells": [
  {
   "metadata": {},
   "cell_type": "markdown",
   "source": [
    "## Exercise 4\n",
    "\n",
    "**练习**：\n",
    "\n",
    "构建指定的图，需要用到 **2 条条件边**。\n",
    "\n",
    "输入：\n",
    "\n",
    "```python\n",
    "initial_state = AgentState(\n",
    "    number1=10, operation=\"-\", number2=5, number3=7, number4=2,\n",
    "    operation2=\"+\", finalNumber=0, finalNumber2=0\n",
    ")\n",
    "```\n",
    "\n",
    "输出：\n",
    "\n",
    "number1 - number2 = finalNumber\n",
    "\n",
    "number3 + number4 = finalNumber2"
   ],
   "id": "cbc0ea513bae5e7e"
  },
  {
   "cell_type": "code",
   "id": "initial_id",
   "metadata": {
    "collapsed": true,
    "ExecuteTime": {
     "end_time": "2025-09-21T13:44:40.918150Z",
     "start_time": "2025-09-21T13:44:40.915820Z"
    }
   },
   "source": [
    "from typing import TypedDict\n",
    "from langgraph.graph import StateGraph,START,END"
   ],
   "outputs": [],
   "execution_count": 24
  },
  {
   "metadata": {
    "ExecuteTime": {
     "end_time": "2025-09-21T13:44:40.926898Z",
     "start_time": "2025-09-21T13:44:40.924934Z"
    }
   },
   "cell_type": "code",
   "source": [
    "class AgentState(TypedDict):\n",
    "    number1:int\n",
    "    operation:str\n",
    "    number2:int\n",
    "    number3:int\n",
    "    number4:int\n",
    "    operation2:str\n",
    "    finalNumber:int\n",
    "    finalNumber2:int"
   ],
   "id": "87769a39bfe6d029",
   "outputs": [],
   "execution_count": 25
  },
  {
   "metadata": {
    "ExecuteTime": {
     "end_time": "2025-09-21T13:44:40.935417Z",
     "start_time": "2025-09-21T13:44:40.932595Z"
    }
   },
   "cell_type": "code",
   "source": [
    "def adder(state:AgentState) -> AgentState:\n",
    "    \"\"\"将两个数相加\"\"\"\n",
    "    state[\"finalNumber\"] = state[\"number1\"] + state[\"number2\"]\n",
    "    return state\n",
    "\n",
    "def subtractor(state:AgentState) -> AgentState:\n",
    "    \"\"\"将两个数相减\"\"\"\n",
    "    state[\"finalNumber\"] = state[\"number1\"] - state[\"number2\"]\n",
    "    return state\n",
    "\n",
    "def decide_next_node(state:AgentState) -> str:\n",
    "    \"\"\"路由\"\"\"\n",
    "    if state[\"operation\"] == \"+\":\n",
    "        return \"addition_operation\"\n",
    "    elif state[\"operation\"] == \"-\":\n",
    "        return \"subtraction_operation\"\n",
    "\n",
    "def adder2(state:AgentState) -> AgentState:\n",
    "    \"\"\"将两个数相加\"\"\"\n",
    "    state[\"finalNumber2\"] = state[\"number3\"] + state[\"number4\"]\n",
    "    return state\n",
    "\n",
    "def subtractor2(state:AgentState) -> AgentState:\n",
    "    \"\"\"将两个数相减\"\"\"\n",
    "    state[\"finalNumber2\"] = state[\"number3\"] - state[\"number4\"]\n",
    "    return state\n",
    "\n",
    "def decide_next_node2(state:AgentState) -> str:\n",
    "    \"\"\"路由\"\"\"\n",
    "    if state[\"operation2\"] == \"+\":\n",
    "        return \"addition_operation2\"\n",
    "    elif state[\"operation2\"] == \"-\":\n",
    "        return \"subtraction_operation2\""
   ],
   "id": "3626cf5e8e54ffc6",
   "outputs": [],
   "execution_count": 26
  },
  {
   "metadata": {
    "ExecuteTime": {
     "end_time": "2025-09-21T13:44:40.943194Z",
     "start_time": "2025-09-21T13:44:40.939611Z"
    }
   },
   "cell_type": "code",
   "source": [
    "graph = StateGraph(AgentState)\n",
    "\n",
    "graph.add_node(\"add_node\",adder)\n",
    "graph.add_node(\"subtract_node\",subtractor)\n",
    "graph.add_node(\"router\",lambda state: state)\n",
    "graph.add_node(\"add_node2\",adder2)\n",
    "graph.add_node(\"subtract_node2\",subtractor2)\n",
    "graph.add_node(\"router2\",lambda state: state)\n",
    "\n",
    "graph.add_edge(START,\"router\")\n",
    "graph.add_conditional_edges(\n",
    "    \"router\",\n",
    "    decide_next_node,\n",
    "    {\n",
    "        \"addition_operation\":\"add_node\",\n",
    "        \"subtraction_operation\":\"subtract_node\",\n",
    "    }\n",
    ")\n",
    "graph.add_edge(\"add_node\",\"router2\")\n",
    "graph.add_edge(\"subtract_node\",\"router2\")\n",
    "graph.add_conditional_edges(\n",
    "    \"router2\",\n",
    "    decide_next_node2,\n",
    "    {\n",
    "        \"addition_operation2\":\"add_node2\",\n",
    "        \"subtraction_operation2\":\"subtract_node2\",\n",
    "    }\n",
    ")\n",
    "graph.add_edge(\"add_node2\",END)\n",
    "graph.add_edge(\"subtract_node2\",END)\n",
    "\n",
    "app = graph.compile()"
   ],
   "id": "6834dbd44b215d9",
   "outputs": [],
   "execution_count": 27
  },
  {
   "metadata": {
    "ExecuteTime": {
     "end_time": "2025-09-21T13:44:40.948093Z",
     "start_time": "2025-09-21T13:44:40.945751Z"
    }
   },
   "cell_type": "code",
   "source": [
    "initial_state = AgentState(\n",
    "    number1=10, operation=\"-\", number2=5, number3=7, number4=2,\n",
    "    operation2=\"+\", finalNumber=0, finalNumber2=0\n",
    ")\n",
    "answer = app.invoke(initial_state)"
   ],
   "id": "b05577fed5103e6",
   "outputs": [],
   "execution_count": 28
  },
  {
   "metadata": {
    "ExecuteTime": {
     "end_time": "2025-09-21T13:44:40.954044Z",
     "start_time": "2025-09-21T13:44:40.952119Z"
    }
   },
   "cell_type": "code",
   "source": "answer",
   "id": "633672b58df714b",
   "outputs": [
    {
     "data": {
      "text/plain": [
       "{'number1': 10,\n",
       " 'operation': '-',\n",
       " 'number2': 5,\n",
       " 'number3': 7,\n",
       " 'number4': 2,\n",
       " 'operation2': '+',\n",
       " 'finalNumber': 5,\n",
       " 'finalNumber2': 9}"
      ]
     },
     "execution_count": 29,
     "metadata": {},
     "output_type": "execute_result"
    }
   ],
   "execution_count": 29
  },
  {
   "metadata": {
    "ExecuteTime": {
     "end_time": "2025-09-21T13:44:40.964270Z",
     "start_time": "2025-09-21T13:44:40.962409Z"
    }
   },
   "cell_type": "code",
   "source": "answer[\"finalNumber\"]",
   "id": "f04ef91cd877296a",
   "outputs": [
    {
     "data": {
      "text/plain": [
       "5"
      ]
     },
     "execution_count": 30,
     "metadata": {},
     "output_type": "execute_result"
    }
   ],
   "execution_count": 30
  },
  {
   "metadata": {
    "ExecuteTime": {
     "end_time": "2025-09-21T13:44:40.972461Z",
     "start_time": "2025-09-21T13:44:40.970579Z"
    }
   },
   "cell_type": "code",
   "source": "answer[\"finalNumber2\"]",
   "id": "2d6826656239a6d",
   "outputs": [
    {
     "data": {
      "text/plain": [
       "9"
      ]
     },
     "execution_count": 31,
     "metadata": {},
     "output_type": "execute_result"
    }
   ],
   "execution_count": 31
  }
 ],
 "metadata": {
  "kernelspec": {
   "display_name": "Python 3",
   "language": "python",
   "name": "python3"
  },
  "language_info": {
   "codemirror_mode": {
    "name": "ipython",
    "version": 2
   },
   "file_extension": ".py",
   "mimetype": "text/x-python",
   "name": "python",
   "nbconvert_exporter": "python",
   "pygments_lexer": "ipython2",
   "version": "2.7.6"
  }
 },
 "nbformat": 4,
 "nbformat_minor": 5
}

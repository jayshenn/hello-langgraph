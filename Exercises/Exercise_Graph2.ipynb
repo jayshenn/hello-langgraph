{
 "cells": [
  {
   "metadata": {},
   "cell_type": "markdown",
   "source": [
    "# Exercise 2\n",
    "\n",
    "**练习**：\n",
    "\n",
    "创建一个图，输入包括整数列表、姓名和操作符。如果操作符是 `\"+\"`，就把列表元素相加；如果是 `\"*\"`，就相乘。\n",
    "\n",
    "输入：\n",
    "\n",
    "```json\n",
    "{\"name\": \"Jack Sparrow\", \"values\": [1,2,3,4], \"operation\": \"*\"}\n",
    "```\n",
    "\n",
    "输出：\n",
    "\n",
    "```\n",
    "\"Hi Jack Sparrow, your answer is: 24\"\n",
    "```\n",
    "\n",
    "提示：在节点中需要使用 **if 判断**。"
   ],
   "id": "30710ae2c9f15a0f"
  },
  {
   "cell_type": "code",
   "id": "initial_id",
   "metadata": {
    "collapsed": true,
    "ExecuteTime": {
     "end_time": "2025-09-21T11:03:16.059378Z",
     "start_time": "2025-09-21T11:03:15.856638Z"
    }
   },
   "source": [
    "from typing import TypedDict,List\n",
    "from langgraph.graph import StateGraph\n",
    "import math"
   ],
   "outputs": [],
   "execution_count": 2
  },
  {
   "metadata": {
    "ExecuteTime": {
     "end_time": "2025-09-21T11:03:16.065628Z",
     "start_time": "2025-09-21T11:03:16.063618Z"
    }
   },
   "cell_type": "code",
   "source": [
    "class AgentState(TypedDict):\n",
    "    name:str\n",
    "    values:List[int]\n",
    "    operation:str\n",
    "    result:str\n",
    "\n",
    "def process_values(state:AgentState) -> AgentState:\n",
    "    \"\"\"处理多个不同的输入\"\"\"\n",
    "    operation = state[\"operation\"]\n",
    "    if operation == \"+\":\n",
    "        state[\"result\"] = f\"Hi {state[\"name\"]}, your answer is: {sum(state[\"values\"])}\"\n",
    "    elif operation == \"*\":\n",
    "        state[\"result\"] = f\"Hi {state[\"name\"]}, your answer is: {math.prod(state[\"values\"])}\"\n",
    "    else:\n",
    "        state[\"result\"] = \"Invalid!\"\n",
    "\n",
    "    return state"
   ],
   "id": "7a3575e3c8dd2200",
   "outputs": [],
   "execution_count": 3
  },
  {
   "metadata": {
    "ExecuteTime": {
     "end_time": "2025-09-21T11:03:16.072325Z",
     "start_time": "2025-09-21T11:03:16.070216Z"
    }
   },
   "cell_type": "code",
   "source": [
    "graph = StateGraph(AgentState)\n",
    "\n",
    "graph.add_node(\"processor\",process_values)\n",
    "\n",
    "graph.set_entry_point(\"processor\")\n",
    "graph.set_finish_point(\"processor\")\n",
    "\n",
    "app = graph.compile()"
   ],
   "id": "231ab95f07d89358",
   "outputs": [],
   "execution_count": 4
  },
  {
   "metadata": {
    "ExecuteTime": {
     "end_time": "2025-09-21T11:03:16.085203Z",
     "start_time": "2025-09-21T11:03:16.082075Z"
    }
   },
   "cell_type": "code",
   "source": "answer = app.invoke({\"name\": \"Jack Sparrow\", \"values\": [1,2,3,4], \"operation\": \"*\"})",
   "id": "3beb7fe1ce19cbfa",
   "outputs": [],
   "execution_count": 5
  },
  {
   "metadata": {
    "ExecuteTime": {
     "end_time": "2025-09-21T11:03:16.096101Z",
     "start_time": "2025-09-21T11:03:16.093902Z"
    }
   },
   "cell_type": "code",
   "source": "answer",
   "id": "314a773bab5fed9",
   "outputs": [
    {
     "data": {
      "text/plain": [
       "{'name': 'Jack Sparrow',\n",
       " 'values': [1, 2, 3, 4],\n",
       " 'operation': '*',\n",
       " 'result': 'Hi Jack Sparrow, your answer is: 24'}"
      ]
     },
     "execution_count": 6,
     "metadata": {},
     "output_type": "execute_result"
    }
   ],
   "execution_count": 6
  },
  {
   "metadata": {
    "ExecuteTime": {
     "end_time": "2025-09-21T11:03:16.104089Z",
     "start_time": "2025-09-21T11:03:16.102346Z"
    }
   },
   "cell_type": "code",
   "source": "answer[\"result\"]",
   "id": "bac497e0002f07f3",
   "outputs": [
    {
     "data": {
      "text/plain": [
       "'Hi Jack Sparrow, your answer is: 24'"
      ]
     },
     "execution_count": 7,
     "metadata": {},
     "output_type": "execute_result"
    }
   ],
   "execution_count": 7
  }
 ],
 "metadata": {
  "kernelspec": {
   "display_name": "Python 3",
   "language": "python",
   "name": "python3"
  },
  "language_info": {
   "codemirror_mode": {
    "name": "ipython",
    "version": 2
   },
   "file_extension": ".py",
   "mimetype": "text/x-python",
   "name": "python",
   "nbconvert_exporter": "python",
   "pygments_lexer": "ipython2",
   "version": "2.7.6"
  }
 },
 "nbformat": 4,
 "nbformat_minor": 5
}

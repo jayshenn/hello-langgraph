{
 "cells": [
  {
   "metadata": {},
   "cell_type": "markdown",
   "source": [
    "# Exercise 1\n",
    "\n",
    "**练习**：\n",
    "\n",
    "创建一个“个性化赞美代理”。\n",
    "\n",
    "输入：`{\"name\": \"Bob\"}`\n",
    "输出：`\"Bob, you're doing an amazing job learning LangGraph!\"`\n",
    "\n",
    "提示：你需要**拼接（concatenate）状态**，而不是覆盖（replace）。"
   ],
   "id": "bd5307db8ea180a8"
  },
  {
   "cell_type": "code",
   "id": "initial_id",
   "metadata": {
    "collapsed": true,
    "ExecuteTime": {
     "end_time": "2025-09-21T09:53:04.018942Z",
     "start_time": "2025-09-21T09:53:04.015988Z"
    }
   },
   "source": [
    "from typing import Dict,TypedDict\n",
    "from langgraph.graph import StateGraph"
   ],
   "outputs": [],
   "execution_count": 7
  },
  {
   "metadata": {
    "ExecuteTime": {
     "end_time": "2025-09-21T09:53:04.028977Z",
     "start_time": "2025-09-21T09:53:04.026857Z"
    }
   },
   "cell_type": "code",
   "source": [
    "class AgentState(TypedDict): # state schema\n",
    "    name : str\n",
    "\n",
    "def compliment_node(state:AgentState) -> AgentState :\n",
    "    \"\"\"一个用来向用户表达赞美的简单节点\"\"\"\n",
    "    state[\"name\"] = f\"{state['name']} , you're doing an amazing job learning LangGraph!\"\n",
    "    return state"
   ],
   "id": "571f8cf36d76d64e",
   "outputs": [],
   "execution_count": 8
  },
  {
   "metadata": {
    "ExecuteTime": {
     "end_time": "2025-09-21T09:53:04.036677Z",
     "start_time": "2025-09-21T09:53:04.034201Z"
    }
   },
   "cell_type": "code",
   "source": [
    "graph = StateGraph(AgentState)\n",
    "\n",
    "graph.add_node(\"compliment\",compliment_node)\n",
    "\n",
    "graph.set_entry_point(\"compliment\")\n",
    "graph.set_finish_point(\"compliment\")\n",
    "\n",
    "app = graph.compile()"
   ],
   "id": "281f2abf4188c949",
   "outputs": [],
   "execution_count": 9
  },
  {
   "metadata": {
    "ExecuteTime": {
     "end_time": "2025-09-21T09:53:04.045338Z",
     "start_time": "2025-09-21T09:53:04.042415Z"
    }
   },
   "cell_type": "code",
   "source": [
    "result = app.invoke({\"name\":\"Bob\"})\n",
    "result[\"name\"]"
   ],
   "id": "c87770a9a79f5666",
   "outputs": [
    {
     "data": {
      "text/plain": [
       "\"Bob , you're doing an amazing job learning LangGraph!\""
      ]
     },
     "execution_count": 10,
     "metadata": {},
     "output_type": "execute_result"
    }
   ],
   "execution_count": 10
  }
 ],
 "metadata": {
  "kernelspec": {
   "display_name": "Python 3",
   "language": "python",
   "name": "python3"
  },
  "language_info": {
   "codemirror_mode": {
    "name": "ipython",
    "version": 2
   },
   "file_extension": ".py",
   "mimetype": "text/x-python",
   "name": "python",
   "nbconvert_exporter": "python",
   "pygments_lexer": "ipython2",
   "version": "2.7.6"
  }
 },
 "nbformat": 4,
 "nbformat_minor": 5
}

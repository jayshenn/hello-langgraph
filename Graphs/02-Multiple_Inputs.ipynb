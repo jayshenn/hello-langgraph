{
 "cells": [
  {
   "metadata": {},
   "cell_type": "markdown",
   "source": [
    "## Graph II\n",
    "\n",
    "### 多输入图（Multiple Inputs Graph）\n",
    "\n",
    "目标：\n",
    "\n",
    "1. 定义更复杂的 AgentState\n",
    "2. 创建能处理列表数据的节点\n",
    "3. 设置一个能处理并输出计算结果的 LangGraph\n",
    "4. 使用结构化输入调用图并获取输出\n",
    "\n",
    "主要目标：学习如何处理多个输入"
   ],
   "id": "e6887dad33f31d95"
  },
  {
   "cell_type": "code",
   "id": "initial_id",
   "metadata": {
    "collapsed": true,
    "ExecuteTime": {
     "end_time": "2025-09-21T10:47:28.504750Z",
     "start_time": "2025-09-21T10:47:28.502605Z"
    }
   },
   "source": [
    "from typing import TypedDict,List\n",
    "from langgraph.graph import StateGraph"
   ],
   "outputs": [],
   "execution_count": 7
  },
  {
   "metadata": {
    "ExecuteTime": {
     "end_time": "2025-09-21T10:47:28.514261Z",
     "start_time": "2025-09-21T10:47:28.511878Z"
    }
   },
   "cell_type": "code",
   "source": [
    "class AgentState(TypedDict):\n",
    "    values:List[int]\n",
    "    name:str\n",
    "    result:str\n",
    "\n",
    "def process_values(state:AgentState) -> AgentState:\n",
    "    \"\"\"一个处理多个不同输入的函数\"\"\"\n",
    "    print(state)\n",
    "\n",
    "    state[\"result\"] = f\"Hi there {state[\"name\"]}! Your sum = {sum(state[\"values\"])}\"\n",
    "\n",
    "    print(state)\n",
    "\n",
    "    return state"
   ],
   "id": "d987335591da7a5b",
   "outputs": [],
   "execution_count": 8
  },
  {
   "metadata": {
    "ExecuteTime": {
     "end_time": "2025-09-21T10:47:28.522300Z",
     "start_time": "2025-09-21T10:47:28.519666Z"
    }
   },
   "cell_type": "code",
   "source": [
    "graph = StateGraph(AgentState)\n",
    "\n",
    "graph.add_node(\"processor\",process_values)\n",
    "\n",
    "graph.set_entry_point(\"processor\")\n",
    "graph.set_finish_point(\"processor\")\n",
    "\n",
    "app = graph.compile()"
   ],
   "id": "d3f0736efb8a9dc2",
   "outputs": [],
   "execution_count": 9
  },
  {
   "metadata": {
    "ExecuteTime": {
     "end_time": "2025-09-21T10:47:28.531247Z",
     "start_time": "2025-09-21T10:47:28.528611Z"
    }
   },
   "cell_type": "code",
   "source": "answers = app.invoke({\"values\": [1,2,3,4,5],\"name\":\"Bob\"})",
   "id": "42fe36131f194c5e",
   "outputs": [
    {
     "name": "stdout",
     "output_type": "stream",
     "text": [
      "{'values': [1, 2, 3, 4, 5], 'name': 'Bob'}\n",
      "{'values': [1, 2, 3, 4, 5], 'name': 'Bob', 'result': 'Hi there Bob! Your sum = 15'}\n"
     ]
    }
   ],
   "execution_count": 10
  },
  {
   "metadata": {
    "ExecuteTime": {
     "end_time": "2025-09-21T10:47:28.542147Z",
     "start_time": "2025-09-21T10:47:28.539959Z"
    }
   },
   "cell_type": "code",
   "source": "answers",
   "id": "55a9fed4a48fb1f2",
   "outputs": [
    {
     "data": {
      "text/plain": [
       "{'values': [1, 2, 3, 4, 5],\n",
       " 'name': 'Bob',\n",
       " 'result': 'Hi there Bob! Your sum = 15'}"
      ]
     },
     "execution_count": 11,
     "metadata": {},
     "output_type": "execute_result"
    }
   ],
   "execution_count": 11
  },
  {
   "metadata": {
    "ExecuteTime": {
     "end_time": "2025-09-21T10:47:28.556479Z",
     "start_time": "2025-09-21T10:47:28.554480Z"
    }
   },
   "cell_type": "code",
   "source": "answers[\"result\"]",
   "id": "ba4f2a2069dec3cf",
   "outputs": [
    {
     "data": {
      "text/plain": [
       "'Hi there Bob! Your sum = 15'"
      ]
     },
     "execution_count": 12,
     "metadata": {},
     "output_type": "execute_result"
    }
   ],
   "execution_count": 12
  }
 ],
 "metadata": {
  "kernelspec": {
   "display_name": "Python 3",
   "language": "python",
   "name": "python3"
  },
  "language_info": {
   "codemirror_mode": {
    "name": "ipython",
    "version": 2
   },
   "file_extension": ".py",
   "mimetype": "text/x-python",
   "name": "python",
   "nbconvert_exporter": "python",
   "pygments_lexer": "ipython2",
   "version": "2.7.6"
  }
 },
 "nbformat": 4,
 "nbformat_minor": 5
}

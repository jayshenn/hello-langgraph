{
 "cells": [
  {
   "metadata": {},
   "cell_type": "markdown",
   "source": [
    "## Graph III\n",
    "\n",
    "### 顺序图（Sequential Graph）\n",
    "\n",
    "目标：\n",
    "\n",
    "1. 创建多个节点，按顺序处理并更新状态\n",
    "2. 将节点连接成图\n",
    "3. 调用图，查看状态如何逐步变化\n",
    "\n",
    "主要目标：创建并处理多个节点"
   ],
   "id": "1012d175e03f89bc"
  },
  {
   "cell_type": "code",
   "id": "initial_id",
   "metadata": {
    "collapsed": true,
    "ExecuteTime": {
     "end_time": "2025-09-21T11:18:23.960723Z",
     "start_time": "2025-09-21T11:18:23.779314Z"
    }
   },
   "source": [
    "from typing import TypedDict\n",
    "from langgraph.graph import StateGraph"
   ],
   "outputs": [],
   "execution_count": 1
  },
  {
   "metadata": {
    "ExecuteTime": {
     "end_time": "2025-09-21T11:18:24.334573Z",
     "start_time": "2025-09-21T11:18:24.331543Z"
    }
   },
   "cell_type": "code",
   "source": [
    "class AgentState(TypedDict):\n",
    "    name:str\n",
    "    age:str\n",
    "    final:str"
   ],
   "id": "ad5e6e0d33c40659",
   "outputs": [],
   "execution_count": 2
  },
  {
   "metadata": {
    "ExecuteTime": {
     "end_time": "2025-09-21T11:21:23.938320Z",
     "start_time": "2025-09-21T11:21:23.935524Z"
    }
   },
   "cell_type": "code",
   "source": [
    "def first_node(state:AgentState) -> AgentState:\n",
    "    \"\"\"这是序列的第一个节点\"\"\"\n",
    "    state[\"final\"] = f\"Hi {state['name']}!\"\n",
    "    return state\n",
    "\n",
    "def second_node(state:AgentState) -> AgentState:\n",
    "    \"\"\"这是序列的第二个节点\"\"\"\n",
    "    state[\"final\"] = f\"{state['final']} You are {state['age']} years old.\"\n",
    "    return state"
   ],
   "id": "76859f20a5e5a4ca",
   "outputs": [],
   "execution_count": 3
  },
  {
   "metadata": {
    "ExecuteTime": {
     "end_time": "2025-09-21T11:23:24.004591Z",
     "start_time": "2025-09-21T11:23:24.001541Z"
    }
   },
   "cell_type": "code",
   "source": [
    "graph = StateGraph(AgentState)\n",
    "\n",
    "graph.add_node(\"first_node\",first_node)\n",
    "graph.add_node(\"second_node\",second_node)\n",
    "\n",
    "graph.set_entry_point(\"first_node\")\n",
    "graph.add_edge(\"first_node\", \"second_node\")\n",
    "graph.set_finish_point(\"second_node\")\n",
    "\n",
    "app = graph.compile()"
   ],
   "id": "302e8b1e40985cfd",
   "outputs": [],
   "execution_count": 5
  },
  {
   "metadata": {
    "ExecuteTime": {
     "end_time": "2025-09-21T11:23:25.189289Z",
     "start_time": "2025-09-21T11:23:25.183570Z"
    }
   },
   "cell_type": "code",
   "source": "answer = app.invoke({\"name\": \"Charlie\", \"age\": 20})",
   "id": "4d42171b8f698236",
   "outputs": [],
   "execution_count": 6
  },
  {
   "metadata": {
    "ExecuteTime": {
     "end_time": "2025-09-21T11:23:44.421873Z",
     "start_time": "2025-09-21T11:23:44.417752Z"
    }
   },
   "cell_type": "code",
   "source": "answer",
   "id": "9a2d901e559459f4",
   "outputs": [
    {
     "data": {
      "text/plain": [
       "{'name': 'Charlie', 'age': 20, 'final': 'Hi Charlie! You are 20 years old.'}"
      ]
     },
     "execution_count": 7,
     "metadata": {},
     "output_type": "execute_result"
    }
   ],
   "execution_count": 7
  },
  {
   "metadata": {
    "ExecuteTime": {
     "end_time": "2025-09-21T11:23:46.228367Z",
     "start_time": "2025-09-21T11:23:46.225333Z"
    }
   },
   "cell_type": "code",
   "source": "answer[\"final\"]",
   "id": "ce22c2209eca7c18",
   "outputs": [
    {
     "data": {
      "text/plain": [
       "'Hi Charlie! You are 20 years old.'"
      ]
     },
     "execution_count": 8,
     "metadata": {},
     "output_type": "execute_result"
    }
   ],
   "execution_count": 8
  }
 ],
 "metadata": {
  "kernelspec": {
   "display_name": "Python 3",
   "language": "python",
   "name": "python3"
  },
  "language_info": {
   "codemirror_mode": {
    "name": "ipython",
    "version": 2
   },
   "file_extension": ".py",
   "mimetype": "text/x-python",
   "name": "python",
   "nbconvert_exporter": "python",
   "pygments_lexer": "ipython2",
   "version": "2.7.6"
  }
 },
 "nbformat": 4,
 "nbformat_minor": 5
}

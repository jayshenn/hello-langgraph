{
 "cells": [
  {
   "metadata": {},
   "cell_type": "markdown",
   "source": [
    "## Graph IV\n",
    "\n",
    "### 条件图（Conditional Graph）\n",
    "\n",
    "目标：\n",
    "\n",
    "1. 使用条件逻辑将数据流路由到不同节点\n",
    "2. 使用 START 和 END 明确管理入口和出口\n",
    "3. 创建多个节点执行不同操作（加法、减法）\n",
    "4. 创建路由节点（router node）负责决策\n",
    "\n",
    "主要目标：学习如何使用 `add_conditional_edges()`"
   ],
   "id": "6a14c94a9ba8000"
  },
  {
   "cell_type": "code",
   "id": "initial_id",
   "metadata": {
    "collapsed": true,
    "ExecuteTime": {
     "end_time": "2025-09-21T12:57:28.789444Z",
     "start_time": "2025-09-21T12:57:28.607003Z"
    }
   },
   "source": [
    "from typing import TypedDict\n",
    "from langgraph.graph import StateGraph,START,END"
   ],
   "outputs": [],
   "execution_count": 1
  },
  {
   "metadata": {
    "ExecuteTime": {
     "end_time": "2025-09-21T12:57:48.345377Z",
     "start_time": "2025-09-21T12:57:48.342573Z"
    }
   },
   "cell_type": "code",
   "source": [
    "class AgentState(TypedDict):\n",
    "    number1: int\n",
    "    operation: str\n",
    "    number2: int\n",
    "    finalNumber: int"
   ],
   "id": "b5e7008912a5cdb6",
   "outputs": [],
   "execution_count": 2
  },
  {
   "metadata": {
    "ExecuteTime": {
     "end_time": "2025-09-21T13:09:00.529098Z",
     "start_time": "2025-09-21T13:09:00.526855Z"
    }
   },
   "cell_type": "code",
   "source": [
    "def adder(state:AgentState) -> AgentState:\n",
    "    \"\"\"此节点将两个数字相加\"\"\"\n",
    "    state[\"finalNumber\"] = state[\"number1\"] + state[\"number2\"]\n",
    "    return state\n",
    "\n",
    "def subtractor(state:AgentState) -> AgentState:\n",
    "    \"\"\"此节点将两个数字相减\"\"\"\n",
    "    state[\"finalNumber\"] = state[\"number1\"] - state[\"number2\"]\n",
    "    return state\n",
    "\n",
    "def decide_next_node(state:AgentState) -> str:\n",
    "    \"\"\"路由节点\"\"\"\n",
    "    if state[\"operation\"] == \"+\":\n",
    "        return \"addition_operation\"\n",
    "    elif state[\"operation\"] == \"-\":\n",
    "        return \"subtraction_operation\""
   ],
   "id": "6b6a9d50aa90df3b",
   "outputs": [],
   "execution_count": 9
  },
  {
   "metadata": {
    "ExecuteTime": {
     "end_time": "2025-09-21T13:09:00.538222Z",
     "start_time": "2025-09-21T13:09:00.535126Z"
    }
   },
   "cell_type": "code",
   "source": [
    "graph = StateGraph(AgentState)\n",
    "\n",
    "graph.add_node(\"add_node\",adder)\n",
    "graph.add_node(\"subtract_node\",subtractor)\n",
    "graph.add_node(\"router\",lambda state: state)\n",
    "\n",
    "graph.add_edge(START,\"router\")\n",
    "graph.add_conditional_edges(\n",
    "    \"router\",\n",
    "    decide_next_node,\n",
    "    {\n",
    "        \"addition_operation\": \"add_node\",\n",
    "        \"subtraction_operation\": \"subtract_node\",\n",
    "    }\n",
    ")\n",
    "graph.add_edge(\"add_node\",END)\n",
    "graph.add_edge(\"subtract_node\",END)\n",
    "\n",
    "app = graph.compile()"
   ],
   "id": "78b253a4aff48b8b",
   "outputs": [],
   "execution_count": 10
  },
  {
   "metadata": {
    "ExecuteTime": {
     "end_time": "2025-09-21T13:09:00.544767Z",
     "start_time": "2025-09-21T13:09:00.542217Z"
    }
   },
   "cell_type": "code",
   "source": [
    "initial_state_1 = AgentState(number1 = 10, operation=\"-\", number2 = 5)\n",
    "answer = app.invoke(initial_state_1)"
   ],
   "id": "99f4b56aeca8cecb",
   "outputs": [],
   "execution_count": 11
  },
  {
   "metadata": {
    "ExecuteTime": {
     "end_time": "2025-09-21T13:09:00.551565Z",
     "start_time": "2025-09-21T13:09:00.549684Z"
    }
   },
   "cell_type": "code",
   "source": "answer",
   "id": "929ff17112223178",
   "outputs": [
    {
     "data": {
      "text/plain": [
       "{'number1': 10, 'operation': '-', 'number2': 5, 'finalNumber': 5}"
      ]
     },
     "execution_count": 12,
     "metadata": {},
     "output_type": "execute_result"
    }
   ],
   "execution_count": 12
  },
  {
   "metadata": {
    "ExecuteTime": {
     "end_time": "2025-09-21T13:09:00.562273Z",
     "start_time": "2025-09-21T13:09:00.560560Z"
    }
   },
   "cell_type": "code",
   "source": "answer[\"finalNumber\"]",
   "id": "b59d79bd33d1fee6",
   "outputs": [
    {
     "data": {
      "text/plain": [
       "5"
      ]
     },
     "execution_count": 13,
     "metadata": {},
     "output_type": "execute_result"
    }
   ],
   "execution_count": 13
  }
 ],
 "metadata": {
  "kernelspec": {
   "display_name": "Python 3",
   "language": "python",
   "name": "python3"
  },
  "language_info": {
   "codemirror_mode": {
    "name": "ipython",
    "version": 2
   },
   "file_extension": ".py",
   "mimetype": "text/x-python",
   "name": "python",
   "nbconvert_exporter": "python",
   "pygments_lexer": "ipython2",
   "version": "2.7.6"
  }
 },
 "nbformat": 4,
 "nbformat_minor": 5
}

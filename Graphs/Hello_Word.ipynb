{
 "cells": [
  {
   "metadata": {},
   "cell_type": "markdown",
   "source": [
    "# Graph I\n",
    "第一个LangGraph Graph"
   ],
   "id": "b169de5b5f22e207"
  },
  {
   "cell_type": "code",
   "id": "initial_id",
   "metadata": {
    "collapsed": true,
    "ExecuteTime": {
     "end_time": "2025-09-21T09:22:35.971001Z",
     "start_time": "2025-09-21T09:22:35.969461Z"
    }
   },
   "source": [
    "from typing import Dict,TypedDict\n",
    "from langgraph.graph import StateGraph"
   ],
   "outputs": [],
   "execution_count": 11
  },
  {
   "metadata": {
    "ExecuteTime": {
     "end_time": "2025-09-21T09:22:37.334228Z",
     "start_time": "2025-09-21T09:22:37.332679Z"
    }
   },
   "cell_type": "code",
   "source": [
    "# 创建一个 AgentState —— 这是一个共享的数据结构，用于在应用运行过程中跟踪和保存信息。\n",
    "class AgentState(TypedDict): # state schema\n",
    "    message : str\n",
    "\n",
    "def greeting_node(state:AgentState) -> AgentState :\n",
    "    \"\"\"一个用于在 state（状态） 中添加一条问候消息简单的节点\"\"\"\n",
    "    state['message'] = f\"Hey {state['message']} ,how are you?\"\n",
    "    return state\n"
   ],
   "id": "fc5d416402552db5",
   "outputs": [],
   "execution_count": 12
  },
  {
   "metadata": {
    "ExecuteTime": {
     "end_time": "2025-09-21T09:22:38.538027Z",
     "start_time": "2025-09-21T09:22:38.536168Z"
    }
   },
   "cell_type": "code",
   "source": [
    "graph = StateGraph(AgentState)\n",
    "\n",
    "graph.add_node(\"greeter\",greeting_node)\n",
    "\n",
    "graph.set_entry_point(\"greeter\")\n",
    "graph.set_finish_point(\"greeter\")\n",
    "\n",
    "app = graph.compile()"
   ],
   "id": "1dc6033636804fae",
   "outputs": [],
   "execution_count": 13
  },
  {
   "metadata": {
    "ExecuteTime": {
     "end_time": "2025-09-21T09:31:30.824834Z",
     "start_time": "2025-09-21T09:31:30.821355Z"
    }
   },
   "cell_type": "code",
   "source": [
    "result = app.invoke({\"message\":\"Bob\"})\n",
    "result[\"message\"]"
   ],
   "id": "c481934f6866be56",
   "outputs": [
    {
     "data": {
      "text/plain": [
       "'Hey Bob ,how are you?'"
      ]
     },
     "execution_count": 19,
     "metadata": {},
     "output_type": "execute_result"
    }
   ],
   "execution_count": 19
  }
 ],
 "metadata": {
  "kernelspec": {
   "display_name": "Python 3",
   "language": "python",
   "name": "python3"
  },
  "language_info": {
   "codemirror_mode": {
    "name": "ipython",
    "version": 2
   },
   "file_extension": ".py",
   "mimetype": "text/x-python",
   "name": "python",
   "nbconvert_exporter": "python",
   "pygments_lexer": "ipython2",
   "version": "2.7.6"
  }
 },
 "nbformat": 4,
 "nbformat_minor": 5
}
